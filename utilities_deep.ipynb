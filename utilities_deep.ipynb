{
 "cells": [
  {
   "cell_type": "code",
   "execution_count": 4,
   "metadata": {},
   "outputs": [],
   "source": [
    "import pandas as pd"
   ]
  },
  {
   "cell_type": "markdown",
   "metadata": {},
   "source": [
    "# Cleaning up PG&E electrical and gas data"
   ]
  },
  {
   "cell_type": "code",
   "execution_count": 140,
   "metadata": {
    "tags": []
   },
   "outputs": [
    {
     "output_type": "execute_result",
     "data": {
      "text/plain": "        DATE  USAGE  COST\n0 2014-07-30   0.48   0.0\n1 2014-07-31   0.48   0.0\n2 2014-08-01   0.48   0.0\n3 2014-08-02   0.48   0.0\n4 2014-08-03   0.48   0.0",
      "text/html": "<div>\n<style scoped>\n    .dataframe tbody tr th:only-of-type {\n        vertical-align: middle;\n    }\n\n    .dataframe tbody tr th {\n        vertical-align: top;\n    }\n\n    .dataframe thead th {\n        text-align: right;\n    }\n</style>\n<table border=\"1\" class=\"dataframe\">\n  <thead>\n    <tr style=\"text-align: right;\">\n      <th></th>\n      <th>DATE</th>\n      <th>USAGE</th>\n      <th>COST</th>\n    </tr>\n  </thead>\n  <tbody>\n    <tr>\n      <th>0</th>\n      <td>2014-07-30</td>\n      <td>0.48</td>\n      <td>0.0</td>\n    </tr>\n    <tr>\n      <th>1</th>\n      <td>2014-07-31</td>\n      <td>0.48</td>\n      <td>0.0</td>\n    </tr>\n    <tr>\n      <th>2</th>\n      <td>2014-08-01</td>\n      <td>0.48</td>\n      <td>0.0</td>\n    </tr>\n    <tr>\n      <th>3</th>\n      <td>2014-08-02</td>\n      <td>0.48</td>\n      <td>0.0</td>\n    </tr>\n    <tr>\n      <th>4</th>\n      <td>2014-08-03</td>\n      <td>0.48</td>\n      <td>0.0</td>\n    </tr>\n  </tbody>\n</table>\n</div>"
     },
     "metadata": {},
     "execution_count": 140
    }
   ],
   "source": [
    "# manipulating electrical data\n",
    "edf = pd.read_csv(\"./data/electrical.csv\")                    # read the data\n",
    "\n",
    "edf['DATE'] = edf['DATE'].astype('datetime64')                # set the date type\n",
    "edf['COST'] = edf['COST'].str.replace('$','')                 # remove unnecesary symbols\n",
    "edf['COST'] = edf['COST'].astype('float64')                   # set the right type\n",
    "edf = edf.set_index('DATE').resample('D').sum()               # Get the usage and cost total per day\n",
    "edf = edf.reset_index()\n",
    "edf.head()"
   ]
  },
  {
   "cell_type": "code",
   "execution_count": 14,
   "metadata": {},
   "outputs": [
    {
     "output_type": "execute_result",
     "data": {
      "text/plain": "        DATE  GAS_COST  GAS_USAGE\n0 2014-07-18       0.0        0.0\n1 2014-07-19       0.0        0.0\n2 2014-07-20       0.0        0.0\n3 2014-07-21       0.0        0.0\n4 2014-07-22       0.0        0.0",
      "text/html": "<div>\n<style scoped>\n    .dataframe tbody tr th:only-of-type {\n        vertical-align: middle;\n    }\n\n    .dataframe tbody tr th {\n        vertical-align: top;\n    }\n\n    .dataframe thead th {\n        text-align: right;\n    }\n</style>\n<table border=\"1\" class=\"dataframe\">\n  <thead>\n    <tr style=\"text-align: right;\">\n      <th></th>\n      <th>DATE</th>\n      <th>GAS_COST</th>\n      <th>GAS_USAGE</th>\n    </tr>\n  </thead>\n  <tbody>\n    <tr>\n      <th>0</th>\n      <td>2014-07-18</td>\n      <td>0.0</td>\n      <td>0.0</td>\n    </tr>\n    <tr>\n      <th>1</th>\n      <td>2014-07-19</td>\n      <td>0.0</td>\n      <td>0.0</td>\n    </tr>\n    <tr>\n      <th>2</th>\n      <td>2014-07-20</td>\n      <td>0.0</td>\n      <td>0.0</td>\n    </tr>\n    <tr>\n      <th>3</th>\n      <td>2014-07-21</td>\n      <td>0.0</td>\n      <td>0.0</td>\n    </tr>\n    <tr>\n      <th>4</th>\n      <td>2014-07-22</td>\n      <td>0.0</td>\n      <td>0.0</td>\n    </tr>\n  </tbody>\n</table>\n</div>"
     },
     "metadata": {},
     "execution_count": 14
    }
   ],
   "source": [
    "# manipulating gas data\n",
    "tmp = pd.read_csv(\"./data/gas.csv\").drop(columns=['TYPE','UNITS','NOTES'])\n",
    "tmp['COST'] = tmp['COST'].str.replace('$','')\n",
    "\n",
    "gdf = pd.DataFrame()\n",
    "gdf['DATE'] = tmp['DATE'].astype('datetime64')\n",
    "gdf['GAS_COST'] = tmp['COST'].astype('float64')\n",
    "gdf['GAS_USAGE'] = tmp['USAGE']\n",
    "\n",
    "\n",
    "gdf.head()"
   ]
  },
  {
   "cell_type": "markdown",
   "metadata": {},
   "source": [
    "# Cleaning Weather Data"
   ]
  },
  {
   "cell_type": "code",
   "execution_count": 165,
   "metadata": {
    "tags": []
   },
   "outputs": [
    {
     "output_type": "execute_result",
     "data": {
      "text/plain": "        DATE  PRCP   TMAX  TMIN\n0 2014-07-01   0.0  102.0  57.0\n1 2014-07-02   0.0  100.0  63.0\n2 2014-07-03   0.0   98.0  63.0\n3 2014-07-04   0.0   98.0  63.0\n4 2014-07-05   0.0  102.0  63.0",
      "text/html": "<div>\n<style scoped>\n    .dataframe tbody tr th:only-of-type {\n        vertical-align: middle;\n    }\n\n    .dataframe tbody tr th {\n        vertical-align: top;\n    }\n\n    .dataframe thead th {\n        text-align: right;\n    }\n</style>\n<table border=\"1\" class=\"dataframe\">\n  <thead>\n    <tr style=\"text-align: right;\">\n      <th></th>\n      <th>DATE</th>\n      <th>PRCP</th>\n      <th>TMAX</th>\n      <th>TMIN</th>\n    </tr>\n  </thead>\n  <tbody>\n    <tr>\n      <th>0</th>\n      <td>2014-07-01</td>\n      <td>0.0</td>\n      <td>102.0</td>\n      <td>57.0</td>\n    </tr>\n    <tr>\n      <th>1</th>\n      <td>2014-07-02</td>\n      <td>0.0</td>\n      <td>100.0</td>\n      <td>63.0</td>\n    </tr>\n    <tr>\n      <th>2</th>\n      <td>2014-07-03</td>\n      <td>0.0</td>\n      <td>98.0</td>\n      <td>63.0</td>\n    </tr>\n    <tr>\n      <th>3</th>\n      <td>2014-07-04</td>\n      <td>0.0</td>\n      <td>98.0</td>\n      <td>63.0</td>\n    </tr>\n    <tr>\n      <th>4</th>\n      <td>2014-07-05</td>\n      <td>0.0</td>\n      <td>102.0</td>\n      <td>63.0</td>\n    </tr>\n  </tbody>\n</table>\n</div>"
     },
     "metadata": {},
     "execution_count": 165
    }
   ],
   "source": [
    "wdf = pd.read_csv(\"data/weather.csv\")\n",
    "wdf = wdf.loc[wdf.NAME != 'MERCED MUNICIPAL AIRPORT, CA US',['DATE','PRCP','TMAX', 'TMIN']]\n",
    "wdf['DATE'] = wdf['DATE'].astype('datetime64')\n",
    "\n",
    "wdf.head()"
   ]
  },
  {
   "cell_type": "markdown",
   "metadata": {},
   "source": [
    "# Joining and Saving data"
   ]
  },
  {
   "cell_type": "code",
   "execution_count": 168,
   "metadata": {
    "tags": []
   },
   "outputs": [
    {
     "output_type": "execute_result",
     "data": {
      "text/plain": "        date  electrical_usage  electrical_cost  gas_cost  gas_usage  \\\n0 2014-07-30              0.48              0.0       0.0        0.0   \n1 2014-07-31              0.48              0.0       0.0        0.0   \n2 2014-08-01              0.48              0.0       0.0        0.0   \n3 2014-08-02              0.48              0.0       0.0        0.0   \n4 2014-08-03              0.48              0.0       0.0        0.0   \n\n   precipitation  max_temp  min_temp  \n0            0.0     102.0      68.0  \n1            0.0     103.0      69.0  \n2            0.0     102.0      66.0  \n3            0.0     105.0      66.0  \n4            0.0     105.0      65.0  ",
      "text/html": "<div>\n<style scoped>\n    .dataframe tbody tr th:only-of-type {\n        vertical-align: middle;\n    }\n\n    .dataframe tbody tr th {\n        vertical-align: top;\n    }\n\n    .dataframe thead th {\n        text-align: right;\n    }\n</style>\n<table border=\"1\" class=\"dataframe\">\n  <thead>\n    <tr style=\"text-align: right;\">\n      <th></th>\n      <th>date</th>\n      <th>electrical_usage</th>\n      <th>electrical_cost</th>\n      <th>gas_cost</th>\n      <th>gas_usage</th>\n      <th>precipitation</th>\n      <th>max_temp</th>\n      <th>min_temp</th>\n    </tr>\n  </thead>\n  <tbody>\n    <tr>\n      <th>0</th>\n      <td>2014-07-30</td>\n      <td>0.48</td>\n      <td>0.0</td>\n      <td>0.0</td>\n      <td>0.0</td>\n      <td>0.0</td>\n      <td>102.0</td>\n      <td>68.0</td>\n    </tr>\n    <tr>\n      <th>1</th>\n      <td>2014-07-31</td>\n      <td>0.48</td>\n      <td>0.0</td>\n      <td>0.0</td>\n      <td>0.0</td>\n      <td>0.0</td>\n      <td>103.0</td>\n      <td>69.0</td>\n    </tr>\n    <tr>\n      <th>2</th>\n      <td>2014-08-01</td>\n      <td>0.48</td>\n      <td>0.0</td>\n      <td>0.0</td>\n      <td>0.0</td>\n      <td>0.0</td>\n      <td>102.0</td>\n      <td>66.0</td>\n    </tr>\n    <tr>\n      <th>3</th>\n      <td>2014-08-02</td>\n      <td>0.48</td>\n      <td>0.0</td>\n      <td>0.0</td>\n      <td>0.0</td>\n      <td>0.0</td>\n      <td>105.0</td>\n      <td>66.0</td>\n    </tr>\n    <tr>\n      <th>4</th>\n      <td>2014-08-03</td>\n      <td>0.48</td>\n      <td>0.0</td>\n      <td>0.0</td>\n      <td>0.0</td>\n      <td>0.0</td>\n      <td>105.0</td>\n      <td>65.0</td>\n    </tr>\n  </tbody>\n</table>\n</div>"
     },
     "metadata": {},
     "execution_count": 168
    }
   ],
   "source": [
    "# merging the dataframes\n",
    "\n",
    "tmp_pge = pd.merge(edf, gdf, how=\"left\")\n",
    "pge_temp_data = pd.merge(tmp_pge, wdf, how=\"left\")\n",
    "pge_temp_data.head()\n",
    "\n",
    "# renaming columns\n",
    "pge_temp_data.columns = ['date','electrical_usage','electrical_cost','gas_cost','gas_usage','precipitation','max_temp','min_temp']\n",
    "pge_temp_data.head()"
   ]
  },
  {
   "cell_type": "code",
   "execution_count": 170,
   "metadata": {},
   "outputs": [],
   "source": [
    "# saving data to disk\n",
    "pge_temp_data.to_csv(\"data/pge_and_temperature.csv\")                       # save data"
   ]
  }
 ],
 "metadata": {
  "language_info": {
   "codemirror_mode": {
    "name": "ipython",
    "version": 3
   },
   "file_extension": ".py",
   "mimetype": "text/x-python",
   "name": "python",
   "nbconvert_exporter": "python",
   "pygments_lexer": "ipython3",
   "version": 3
  },
  "orig_nbformat": 2,
  "kernelspec": {
   "name": "python_defaultSpec_1594706196757",
   "display_name": "Python 3.7.4 64-bit ('base': conda)"
  }
 },
 "nbformat": 4,
 "nbformat_minor": 2
}