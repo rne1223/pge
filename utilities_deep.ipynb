{
 "cells": [
  {
   "cell_type": "code",
   "execution_count": 152,
   "metadata": {},
   "outputs": [],
   "source": [
    "import pandas as pd"
   ]
  },
  {
   "cell_type": "markdown",
   "metadata": {},
   "source": [
    "# Cleaning up PG & E data "
   ]
  },
  {
   "cell_type": "code",
   "execution_count": 175,
   "metadata": {
    "tags": []
   },
   "outputs": [],
   "source": [
    "# manipulating electrical data\n",
    "edf = pd.read_csv(\"./data/electrical.csv\")                    # read the data\n",
    "edf['DATE'] = edf['DATE'].astype('datetime64')                # set the date type\n",
    "edf['COST'] = edf['COST'].str.replace('$','')                 # remove unnecesary symbols\n",
    "edf['COST'] = edf['COST'].astype('float64')                   # set the right type\n",
    "edf = edf.set_index('DATE').resample('D').sum()               # Get the usage and cost total per day\n",
    "\n",
    "\n",
    "# manipulating gas data\n",
    "tmp = pd.read_csv(\"./data/gas.csv\").drop(columns=['TYPE','UNITS','NOTES'])\n",
    "gdf = pd.DataFrame()\n",
    "gdf['GAS_DATE'] = tmp['DATE'].astype('datetime64')\n",
    "tmp['COST'] = tmp['COST'].str.replace('$','')\n",
    "gdf['GAS_COST'] = tmp['COST'].astype('float64')\n",
    "gdf['GAS_USAGE'] = tmp['USAGE']\n",
    "\n",
    "gdf = gdf.set_index('GAS_DATE')\n",
    "\n",
    "\n",
    "pge_data = pd.concat([edf, gdf], axis=1, join='inner')     # join dataframes\n",
    "\n",
    "# renaming columns\n",
    "pge_data.columns = ['electrical_usage','electrical_cost','gas_cost','gas_usage']\n",
    "pge_data.index.name = 'DATE'\n",
    "\n",
    "# adding a total_cost column\n",
    "pge_data['total_cost'] = pge_data['electrical_cost'] + pge_data['gas_cost']\n"
   ]
  },
  {
   "cell_type": "code",
   "execution_count": 176,
   "metadata": {
    "tags": []
   },
   "outputs": [
    {
     "output_type": "execute_result",
     "data": {
      "text/plain": "            electrical_usage  electrical_cost  gas_cost  gas_usage  total_cost\nDATE                                                                          \n2014-07-30              0.48             0.00      0.00       0.00        0.00\n2014-07-31              0.48             0.00      0.00       0.00        0.00\n2014-08-01              0.48             0.00      0.00       0.00        0.00\n2014-08-02              0.48             0.00      0.00       0.00        0.00\n2014-08-03              0.48             0.00      0.00       0.00        0.00\n...                      ...              ...       ...        ...         ...\n2020-07-06             30.64             7.48      0.49       0.35        7.97\n2020-07-07             55.99            13.64      0.49       0.35       14.13\n2020-07-08             38.04             9.28      0.00       0.00        9.28\n2020-07-09              0.00             0.00      0.00       0.00        0.00\n2020-07-10              0.00             0.00      0.00       0.00        0.00\n\n[2173 rows x 5 columns]",
      "text/html": "<div>\n<style scoped>\n    .dataframe tbody tr th:only-of-type {\n        vertical-align: middle;\n    }\n\n    .dataframe tbody tr th {\n        vertical-align: top;\n    }\n\n    .dataframe thead th {\n        text-align: right;\n    }\n</style>\n<table border=\"1\" class=\"dataframe\">\n  <thead>\n    <tr style=\"text-align: right;\">\n      <th></th>\n      <th>electrical_usage</th>\n      <th>electrical_cost</th>\n      <th>gas_cost</th>\n      <th>gas_usage</th>\n      <th>total_cost</th>\n    </tr>\n    <tr>\n      <th>DATE</th>\n      <th></th>\n      <th></th>\n      <th></th>\n      <th></th>\n      <th></th>\n    </tr>\n  </thead>\n  <tbody>\n    <tr>\n      <th>2014-07-30</th>\n      <td>0.48</td>\n      <td>0.00</td>\n      <td>0.00</td>\n      <td>0.00</td>\n      <td>0.00</td>\n    </tr>\n    <tr>\n      <th>2014-07-31</th>\n      <td>0.48</td>\n      <td>0.00</td>\n      <td>0.00</td>\n      <td>0.00</td>\n      <td>0.00</td>\n    </tr>\n    <tr>\n      <th>2014-08-01</th>\n      <td>0.48</td>\n      <td>0.00</td>\n      <td>0.00</td>\n      <td>0.00</td>\n      <td>0.00</td>\n    </tr>\n    <tr>\n      <th>2014-08-02</th>\n      <td>0.48</td>\n      <td>0.00</td>\n      <td>0.00</td>\n      <td>0.00</td>\n      <td>0.00</td>\n    </tr>\n    <tr>\n      <th>2014-08-03</th>\n      <td>0.48</td>\n      <td>0.00</td>\n      <td>0.00</td>\n      <td>0.00</td>\n      <td>0.00</td>\n    </tr>\n    <tr>\n      <th>...</th>\n      <td>...</td>\n      <td>...</td>\n      <td>...</td>\n      <td>...</td>\n      <td>...</td>\n    </tr>\n    <tr>\n      <th>2020-07-06</th>\n      <td>30.64</td>\n      <td>7.48</td>\n      <td>0.49</td>\n      <td>0.35</td>\n      <td>7.97</td>\n    </tr>\n    <tr>\n      <th>2020-07-07</th>\n      <td>55.99</td>\n      <td>13.64</td>\n      <td>0.49</td>\n      <td>0.35</td>\n      <td>14.13</td>\n    </tr>\n    <tr>\n      <th>2020-07-08</th>\n      <td>38.04</td>\n      <td>9.28</td>\n      <td>0.00</td>\n      <td>0.00</td>\n      <td>9.28</td>\n    </tr>\n    <tr>\n      <th>2020-07-09</th>\n      <td>0.00</td>\n      <td>0.00</td>\n      <td>0.00</td>\n      <td>0.00</td>\n      <td>0.00</td>\n    </tr>\n    <tr>\n      <th>2020-07-10</th>\n      <td>0.00</td>\n      <td>0.00</td>\n      <td>0.00</td>\n      <td>0.00</td>\n      <td>0.00</td>\n    </tr>\n  </tbody>\n</table>\n<p>2173 rows × 5 columns</p>\n</div>"
     },
     "metadata": {},
     "execution_count": 176
    }
   ],
   "source": [
    "pge_data"
   ]
  },
  {
   "cell_type": "markdown",
   "metadata": {},
   "source": [
    "# Time to cleanup the weather data"
   ]
  },
  {
   "cell_type": "code",
   "execution_count": 180,
   "metadata": {
    "tags": []
   },
   "outputs": [
    {
     "output_type": "execute_result",
     "data": {
      "text/plain": "Index(['STATION', 'NAME', 'LATITUDE', 'LONGITUDE', 'ELEVATION', 'DATE', 'AWND',\n       'AWND_ATTRIBUTES', 'DAPR', 'DAPR_ATTRIBUTES', 'MDPR', 'MDPR_ATTRIBUTES',\n       'PGTM', 'PGTM_ATTRIBUTES', 'PRCP', 'PRCP_ATTRIBUTES', 'SNOW',\n       'SNOW_ATTRIBUTES', 'SNWD', 'SNWD_ATTRIBUTES', 'TAVG', 'TAVG_ATTRIBUTES',\n       'TMAX', 'TMAX_ATTRIBUTES', 'TMIN', 'TMIN_ATTRIBUTES', 'TOBS',\n       'TOBS_ATTRIBUTES', 'WDF2', 'WDF2_ATTRIBUTES', 'WDF5', 'WDF5_ATTRIBUTES',\n       'WSF2', 'WSF2_ATTRIBUTES', 'WSF5', 'WSF5_ATTRIBUTES', 'WT01',\n       'WT01_ATTRIBUTES', 'WT02', 'WT02_ATTRIBUTES', 'WT03', 'WT03_ATTRIBUTES',\n       'WT08', 'WT08_ATTRIBUTES'],\n      dtype='object')"
     },
     "metadata": {},
     "execution_count": 180
    }
   ],
   "source": [
    "wdf = pd.read_csv('data/weather.csv')\n",
    "wdf.columns"
   ]
  },
  {
   "cell_type": "code",
   "execution_count": 183,
   "metadata": {},
   "outputs": [
    {
     "output_type": "execute_result",
     "data": {
      "text/plain": "            PRCP   TMAX  TMIN\nDATE                         \n2014-07-01   0.0  102.0  57.0\n2014-07-02   0.0  100.0  63.0\n2014-07-03   0.0   98.0  63.0\n2014-07-04   0.0   98.0  63.0\n2014-07-05   0.0  102.0  63.0\n...          ...    ...   ...\n2020-07-03   0.0   94.0  60.0\n2020-07-04   0.0   97.0  58.0\n2020-07-05   0.0   99.0  62.0\n2020-07-06   0.0   95.0  59.0\n2020-07-07   0.0   91.0  56.0\n\n[4069 rows x 3 columns]",
      "text/html": "<div>\n<style scoped>\n    .dataframe tbody tr th:only-of-type {\n        vertical-align: middle;\n    }\n\n    .dataframe tbody tr th {\n        vertical-align: top;\n    }\n\n    .dataframe thead th {\n        text-align: right;\n    }\n</style>\n<table border=\"1\" class=\"dataframe\">\n  <thead>\n    <tr style=\"text-align: right;\">\n      <th></th>\n      <th>PRCP</th>\n      <th>TMAX</th>\n      <th>TMIN</th>\n    </tr>\n    <tr>\n      <th>DATE</th>\n      <th></th>\n      <th></th>\n      <th></th>\n    </tr>\n  </thead>\n  <tbody>\n    <tr>\n      <th>2014-07-01</th>\n      <td>0.0</td>\n      <td>102.0</td>\n      <td>57.0</td>\n    </tr>\n    <tr>\n      <th>2014-07-02</th>\n      <td>0.0</td>\n      <td>100.0</td>\n      <td>63.0</td>\n    </tr>\n    <tr>\n      <th>2014-07-03</th>\n      <td>0.0</td>\n      <td>98.0</td>\n      <td>63.0</td>\n    </tr>\n    <tr>\n      <th>2014-07-04</th>\n      <td>0.0</td>\n      <td>98.0</td>\n      <td>63.0</td>\n    </tr>\n    <tr>\n      <th>2014-07-05</th>\n      <td>0.0</td>\n      <td>102.0</td>\n      <td>63.0</td>\n    </tr>\n    <tr>\n      <th>...</th>\n      <td>...</td>\n      <td>...</td>\n      <td>...</td>\n    </tr>\n    <tr>\n      <th>2020-07-03</th>\n      <td>0.0</td>\n      <td>94.0</td>\n      <td>60.0</td>\n    </tr>\n    <tr>\n      <th>2020-07-04</th>\n      <td>0.0</td>\n      <td>97.0</td>\n      <td>58.0</td>\n    </tr>\n    <tr>\n      <th>2020-07-05</th>\n      <td>0.0</td>\n      <td>99.0</td>\n      <td>62.0</td>\n    </tr>\n    <tr>\n      <th>2020-07-06</th>\n      <td>0.0</td>\n      <td>95.0</td>\n      <td>59.0</td>\n    </tr>\n    <tr>\n      <th>2020-07-07</th>\n      <td>0.0</td>\n      <td>91.0</td>\n      <td>56.0</td>\n    </tr>\n  </tbody>\n</table>\n<p>4069 rows × 3 columns</p>\n</div>"
     },
     "metadata": {},
     "execution_count": 183
    }
   ],
   "source": [
    "wdf = wdf.loc[:,['DATE','PRCP','TMAX','TMIN']]\n",
    "wdf.set_index('DATE')"
   ]
  },
  {
   "cell_type": "code",
   "execution_count": 188,
   "metadata": {},
   "outputs": [
    {
     "output_type": "execute_result",
     "data": {
      "text/plain": "                               electrical_usage  electrical_cost  gas_cost  \\\n1970-01-01 00:00:00.000000000               NaN              NaN       NaN   \n1970-01-01 00:00:00.000000001               NaN              NaN       NaN   \n1970-01-01 00:00:00.000000002               NaN              NaN       NaN   \n1970-01-01 00:00:00.000000003               NaN              NaN       NaN   \n1970-01-01 00:00:00.000000004               NaN              NaN       NaN   \n\n                               gas_usage  total_cost DATE  PRCP  TMAX  TMIN  \n1970-01-01 00:00:00.000000000        NaN         NaN  NaN   NaN   NaN   NaN  \n1970-01-01 00:00:00.000000001        NaN         NaN  NaN   NaN   NaN   NaN  \n1970-01-01 00:00:00.000000002        NaN         NaN  NaN   NaN   NaN   NaN  \n1970-01-01 00:00:00.000000003        NaN         NaN  NaN   NaN   NaN   NaN  \n1970-01-01 00:00:00.000000004        NaN         NaN  NaN   NaN   NaN   NaN  ",
      "text/html": "<div>\n<style scoped>\n    .dataframe tbody tr th:only-of-type {\n        vertical-align: middle;\n    }\n\n    .dataframe tbody tr th {\n        vertical-align: top;\n    }\n\n    .dataframe thead th {\n        text-align: right;\n    }\n</style>\n<table border=\"1\" class=\"dataframe\">\n  <thead>\n    <tr style=\"text-align: right;\">\n      <th></th>\n      <th>electrical_usage</th>\n      <th>electrical_cost</th>\n      <th>gas_cost</th>\n      <th>gas_usage</th>\n      <th>total_cost</th>\n      <th>DATE</th>\n      <th>PRCP</th>\n      <th>TMAX</th>\n      <th>TMIN</th>\n    </tr>\n  </thead>\n  <tbody>\n    <tr>\n      <th>1970-01-01 00:00:00.000000000</th>\n      <td>NaN</td>\n      <td>NaN</td>\n      <td>NaN</td>\n      <td>NaN</td>\n      <td>NaN</td>\n      <td>NaN</td>\n      <td>NaN</td>\n      <td>NaN</td>\n      <td>NaN</td>\n    </tr>\n    <tr>\n      <th>1970-01-01 00:00:00.000000001</th>\n      <td>NaN</td>\n      <td>NaN</td>\n      <td>NaN</td>\n      <td>NaN</td>\n      <td>NaN</td>\n      <td>NaN</td>\n      <td>NaN</td>\n      <td>NaN</td>\n      <td>NaN</td>\n    </tr>\n    <tr>\n      <th>1970-01-01 00:00:00.000000002</th>\n      <td>NaN</td>\n      <td>NaN</td>\n      <td>NaN</td>\n      <td>NaN</td>\n      <td>NaN</td>\n      <td>NaN</td>\n      <td>NaN</td>\n      <td>NaN</td>\n      <td>NaN</td>\n    </tr>\n    <tr>\n      <th>1970-01-01 00:00:00.000000003</th>\n      <td>NaN</td>\n      <td>NaN</td>\n      <td>NaN</td>\n      <td>NaN</td>\n      <td>NaN</td>\n      <td>NaN</td>\n      <td>NaN</td>\n      <td>NaN</td>\n      <td>NaN</td>\n    </tr>\n    <tr>\n      <th>1970-01-01 00:00:00.000000004</th>\n      <td>NaN</td>\n      <td>NaN</td>\n      <td>NaN</td>\n      <td>NaN</td>\n      <td>NaN</td>\n      <td>NaN</td>\n      <td>NaN</td>\n      <td>NaN</td>\n      <td>NaN</td>\n    </tr>\n  </tbody>\n</table>\n</div>"
     },
     "metadata": {},
     "execution_count": 188
    }
   ],
   "source": [
    "pd.concat([pge_data,wdf], axis=1).head()     # join dataframes"
   ]
  },
  {
   "cell_type": "code",
   "execution_count": null,
   "metadata": {},
   "outputs": [],
   "source": [
    "# Saving the data to file\n",
    "pge_data.to_csv(\"data/pge_data.csv\")                       # save data"
   ]
  }
 ],
 "metadata": {
  "language_info": {
   "codemirror_mode": {
    "name": "ipython",
    "version": 3
   },
   "file_extension": ".py",
   "mimetype": "text/x-python",
   "name": "python",
   "nbconvert_exporter": "python",
   "pygments_lexer": "ipython3",
   "version": 3
  },
  "orig_nbformat": 2,
  "kernelspec": {
   "name": "python_defaultSpec_1594477763418",
   "display_name": "Python 3.7.4 64-bit ('base': conda)"
  }
 },
 "nbformat": 4,
 "nbformat_minor": 2
}