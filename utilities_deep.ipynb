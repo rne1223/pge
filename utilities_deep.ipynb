{
 "cells": [
  {
   "cell_type": "code",
   "execution_count": 4,
   "metadata": {},
   "outputs": [],
   "source": [
    "import pandas as pd"
   ]
  },
  {
   "cell_type": "markdown",
   "metadata": {},
   "source": [
    "# Cleaning up PG & E data "
   ]
  },
  {
   "cell_type": "code",
   "execution_count": 111,
   "metadata": {
    "tags": []
   },
   "outputs": [
    {
     "output_type": "execute_result",
     "data": {
      "text/plain": "            USAGE   COST  GAS_COST  GAS_USAGE\n2014-07-30   0.48   0.00      0.00       0.00\n2014-07-31   0.48   0.00      0.00       0.00\n2014-08-01   0.48   0.00      0.00       0.00\n2014-08-02   0.48   0.00      0.00       0.00\n2014-08-03   0.48   0.00      0.00       0.00\n...           ...    ...       ...        ...\n2020-07-06  30.64   7.48      0.49       0.35\n2020-07-07  55.99  13.64      0.49       0.35\n2020-07-08  38.04   9.28      0.00       0.00\n2020-07-09   0.00   0.00      0.00       0.00\n2020-07-10   0.00   0.00      0.00       0.00\n\n[2173 rows x 4 columns]",
      "text/html": "<div>\n<style scoped>\n    .dataframe tbody tr th:only-of-type {\n        vertical-align: middle;\n    }\n\n    .dataframe tbody tr th {\n        vertical-align: top;\n    }\n\n    .dataframe thead th {\n        text-align: right;\n    }\n</style>\n<table border=\"1\" class=\"dataframe\">\n  <thead>\n    <tr style=\"text-align: right;\">\n      <th></th>\n      <th>USAGE</th>\n      <th>COST</th>\n      <th>GAS_COST</th>\n      <th>GAS_USAGE</th>\n    </tr>\n  </thead>\n  <tbody>\n    <tr>\n      <th>2014-07-30</th>\n      <td>0.48</td>\n      <td>0.00</td>\n      <td>0.00</td>\n      <td>0.00</td>\n    </tr>\n    <tr>\n      <th>2014-07-31</th>\n      <td>0.48</td>\n      <td>0.00</td>\n      <td>0.00</td>\n      <td>0.00</td>\n    </tr>\n    <tr>\n      <th>2014-08-01</th>\n      <td>0.48</td>\n      <td>0.00</td>\n      <td>0.00</td>\n      <td>0.00</td>\n    </tr>\n    <tr>\n      <th>2014-08-02</th>\n      <td>0.48</td>\n      <td>0.00</td>\n      <td>0.00</td>\n      <td>0.00</td>\n    </tr>\n    <tr>\n      <th>2014-08-03</th>\n      <td>0.48</td>\n      <td>0.00</td>\n      <td>0.00</td>\n      <td>0.00</td>\n    </tr>\n    <tr>\n      <th>...</th>\n      <td>...</td>\n      <td>...</td>\n      <td>...</td>\n      <td>...</td>\n    </tr>\n    <tr>\n      <th>2020-07-06</th>\n      <td>30.64</td>\n      <td>7.48</td>\n      <td>0.49</td>\n      <td>0.35</td>\n    </tr>\n    <tr>\n      <th>2020-07-07</th>\n      <td>55.99</td>\n      <td>13.64</td>\n      <td>0.49</td>\n      <td>0.35</td>\n    </tr>\n    <tr>\n      <th>2020-07-08</th>\n      <td>38.04</td>\n      <td>9.28</td>\n      <td>0.00</td>\n      <td>0.00</td>\n    </tr>\n    <tr>\n      <th>2020-07-09</th>\n      <td>0.00</td>\n      <td>0.00</td>\n      <td>0.00</td>\n      <td>0.00</td>\n    </tr>\n    <tr>\n      <th>2020-07-10</th>\n      <td>0.00</td>\n      <td>0.00</td>\n      <td>0.00</td>\n      <td>0.00</td>\n    </tr>\n  </tbody>\n</table>\n<p>2173 rows × 4 columns</p>\n</div>"
     },
     "metadata": {},
     "execution_count": 111
    }
   ],
   "source": [
    "# manipulating electrical data\n",
    "edf = pd.read_csv(\"./data/electrical.csv\")                    # read the data\n",
    "edf['DATE'] = edf['DATE'].astype('datetime64')                # set the date type\n",
    "edf['COST'] = edf['COST'].str.replace('$','')                 # remove unnecesary symbols\n",
    "edf['COST'] = edf['COST'].astype('float64')                   # set the right type\n",
    "edf = edf.set_index('DATE').resample('D').sum()               # Get the usage and cost total per day\n",
    "\n",
    "\n",
    "# manipulating gas data\n",
    "tmp = pd.read_csv(\"./data/gas.csv\").drop(columns=['TYPE','UNITS','NOTES'])\n",
    "gdf = pd.DataFrame()\n",
    "gdf['GAS_DATE'] = tmp['DATE'].astype('datetime64')\n",
    "tmp['COST'] = tmp['COST'].str.replace('$','')\n",
    "gdf['GAS_COST'] = tmp['COST'].astype('float64')\n",
    "gdf['GAS_USAGE'] = tmp['USAGE']\n",
    "\n",
    "gdf = gdf.set_index('GAS_DATE')\n",
    "\n",
    "\n",
    "\n",
    "\n",
    "data_combined = pd.concat([edf, gdf], axis=1, join='inner')     # join dataframes\n",
    "\n",
    "data_combined.i\n",
    "\n",
    "# data_combined.to_csv(\"data/pge_data.csv\")                       # save data"
   ]
  }
 ],
 "metadata": {
  "language_info": {
   "codemirror_mode": {
    "name": "ipython",
    "version": 3
   },
   "file_extension": ".py",
   "mimetype": "text/x-python",
   "name": "python",
   "nbconvert_exporter": "python",
   "pygments_lexer": "ipython3",
   "version": 3
  },
  "orig_nbformat": 2,
  "kernelspec": {
   "name": "python_defaultSpec_1594477763418",
   "display_name": "Python 3.7.4 64-bit ('base': conda)"
  }
 },
 "nbformat": 4,
 "nbformat_minor": 2
}