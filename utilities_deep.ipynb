{
 "cells": [
  {
   "cell_type": "code",
   "execution_count": 4,
   "metadata": {},
   "outputs": [],
   "source": [
    "import pandas as pd"
   ]
  },
  {
   "cell_type": "markdown",
   "metadata": {},
   "source": [
    "# Cleaning up PG & E data "
   ]
  },
  {
   "cell_type": "code",
   "execution_count": 129,
   "metadata": {
    "tags": []
   },
   "outputs": [],
   "source": [
    "# manipulating electrical data\n",
    "edf = pd.read_csv(\"./data/electrical.csv\")                    # read the data\n",
    "edf['DATE'] = edf['DATE'].astype('datetime64')                # set the date type\n",
    "edf['COST'] = edf['COST'].str.replace('$','')                 # remove unnecesary symbols\n",
    "edf['COST'] = edf['COST'].astype('float64')                   # set the right type\n",
    "edf = edf.set_index('DATE').resample('D').sum()               # Get the usage and cost total per day\n",
    "\n",
    "\n",
    "# manipulating gas data\n",
    "tmp = pd.read_csv(\"./data/gas.csv\").drop(columns=['TYPE','UNITS','NOTES'])\n",
    "gdf = pd.DataFrame()\n",
    "gdf['GAS_DATE'] = tmp['DATE'].astype('datetime64')\n",
    "tmp['COST'] = tmp['COST'].str.replace('$','')\n",
    "gdf['GAS_COST'] = tmp['COST'].astype('float64')\n",
    "gdf['GAS_USAGE'] = tmp['USAGE']\n",
    "\n",
    "gdf = gdf.set_index('GAS_DATE')\n",
    "\n",
    "\n",
    "\n",
    "\n",
    "pge_data = pd.concat([edf, gdf], axis=1, join='inner')     # join dataframes\n",
    "\n",
    "# renaming columns\n",
    "pge_data.columns = ['electrical_usage','electrical_cost','gas_cost','gas_usage']\n",
    "pge_data.index.name = 'date'\n",
    "\n",
    "# adding a total_cost column\n",
    "pge_data['total_cost'] = pge_data['electrical_cost'] + pge_data['gas_cost']\n",
    "\n",
    "pge_data.to_csv(\"data/pge_data.csv\")                       # save data"
   ]
  }
 ],
 "metadata": {
  "language_info": {
   "codemirror_mode": {
    "name": "ipython",
    "version": 3
   },
   "file_extension": ".py",
   "mimetype": "text/x-python",
   "name": "python",
   "nbconvert_exporter": "python",
   "pygments_lexer": "ipython3",
   "version": 3
  },
  "orig_nbformat": 2,
  "kernelspec": {
   "name": "python_defaultSpec_1594477763418",
   "display_name": "Python 3.7.4 64-bit ('base': conda)"
  }
 },
 "nbformat": 4,
 "nbformat_minor": 2
}