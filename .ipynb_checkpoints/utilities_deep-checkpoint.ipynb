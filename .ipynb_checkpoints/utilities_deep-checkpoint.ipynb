{
 "cells": [
  {
   "cell_type": "code",
   "execution_count": 2,
   "metadata": {},
   "outputs": [],
   "source": [
    "import pandas as pd"
   ]
  },
  {
   "cell_type": "markdown",
   "metadata": {},
   "source": [
    "# Cleaning up PG & E data "
   ]
  },
  {
   "cell_type": "code",
   "execution_count": 3,
   "metadata": {
    "tags": []
   },
   "outputs": [
    {
     "ename": "TypeError",
     "evalue": "parser_f() missing 1 required positional argument: 'filepath_or_buffer'",
     "output_type": "error",
     "traceback": [
      "\u001b[1;31m---------------------------------------------------------------------------\u001b[0m",
      "\u001b[1;31mTypeError\u001b[0m                                 Traceback (most recent call last)",
      "\u001b[1;32m<ipython-input-3-fb26e9331329>\u001b[0m in \u001b[0;36m<module>\u001b[1;34m\u001b[0m\n\u001b[0;32m      4\u001b[0m \u001b[0medf\u001b[0m\u001b[1;33m[\u001b[0m\u001b[1;34m'COST'\u001b[0m\u001b[1;33m]\u001b[0m \u001b[1;33m=\u001b[0m \u001b[0medf\u001b[0m\u001b[1;33m[\u001b[0m\u001b[1;34m'COST'\u001b[0m\u001b[1;33m]\u001b[0m\u001b[1;33m.\u001b[0m\u001b[0mstr\u001b[0m\u001b[1;33m.\u001b[0m\u001b[0mreplace\u001b[0m\u001b[1;33m(\u001b[0m\u001b[1;34m'$'\u001b[0m\u001b[1;33m,\u001b[0m\u001b[1;34m''\u001b[0m\u001b[1;33m)\u001b[0m                 \u001b[1;31m# remove unnecesary symbols\u001b[0m\u001b[1;33m\u001b[0m\u001b[1;33m\u001b[0m\u001b[0m\n\u001b[0;32m      5\u001b[0m \u001b[0medf\u001b[0m\u001b[1;33m[\u001b[0m\u001b[1;34m'COST'\u001b[0m\u001b[1;33m]\u001b[0m \u001b[1;33m=\u001b[0m \u001b[0medf\u001b[0m\u001b[1;33m[\u001b[0m\u001b[1;34m'COST'\u001b[0m\u001b[1;33m]\u001b[0m\u001b[1;33m.\u001b[0m\u001b[0mastype\u001b[0m\u001b[1;33m(\u001b[0m\u001b[1;34m'float64'\u001b[0m\u001b[1;33m)\u001b[0m                   \u001b[1;31m# set the right type\u001b[0m\u001b[1;33m\u001b[0m\u001b[1;33m\u001b[0m\u001b[0m\n\u001b[1;32m----> 6\u001b[1;33m \u001b[0mpd\u001b[0m\u001b[1;33m.\u001b[0m\u001b[0mread_csv\u001b[0m\u001b[1;33m(\u001b[0m\u001b[1;33m)\u001b[0m\u001b[1;33m\u001b[0m\u001b[1;33m\u001b[0m\u001b[0m\n\u001b[0m\u001b[0;32m      7\u001b[0m \u001b[1;31m# edf = edf.set_index('DATE').resample('D').sum()               # Get the usage and cost total per day\u001b[0m\u001b[1;33m\u001b[0m\u001b[1;33m\u001b[0m\u001b[1;33m\u001b[0m\u001b[0m\n\u001b[0;32m      8\u001b[0m \u001b[1;33m\u001b[0m\u001b[0m\n",
      "\u001b[1;31mTypeError\u001b[0m: parser_f() missing 1 required positional argument: 'filepath_or_buffer'"
     ]
    }
   ],
   "source": [
    "# manipulating electrical data\n",
    "edf = pd.read_csv(\"./data/electrical.csv\")                    # read the data\n",
    "edf['DATE'] = edf['DATE'].astype('datetime64')                # set the date type\n",
    "edf['COST'] = edf['COST'].str.replace('$','')                 # remove unnecesary symbols\n",
    "edf['COST'] = edf['COST'].astype('float64')                   # set the right type\n",
    "pd.read_csv()\n",
    "# edf = edf.set_index('DATE').resample('D').sum()               # Get the usage and cost total per day\n",
    "\n",
    "\n",
    "# manipulating gas data\n",
    "# tmp = pd.read_csv(\"./data/gas.csv\").drop(columns=['TYPE','UNITS','NOTES'])\n",
    "# tmp['COST'] = tmp['COST'].str.replace('$','')\n",
    "\n",
    "# gdf = pd.DataFrame()\n",
    "# gdf['GAS_DATE'] = tmp['DATE'].astype('datetime64')\n",
    "# gdf['GAS_COST'] = tmp['COST'].astype('float64')\n",
    "# gdf['GAS_USAGE'] = tmp['USAGE']\n",
    "# gdf = gdf.set_index('GAS_DATE')\n",
    "\n",
    "\n",
    "# pge_data = pd.concat([edf, gdf], axis=1, join='inner')     # join dataframes\n",
    "\n",
    "# # renaming columns\n",
    "# pge_data.columns = ['electrical_usage','electrical_cost','gas_cost','gas_usage']\n",
    "# pge_data.index.name = 'date'\n",
    "\n",
    "# # adding a total_cost column\n",
    "# pge_data['total_cost'] = pge_data['electrical_cost'] + pge_data['gas_cost']\n",
    "\n",
    "# pge_data.to_csv(\"data/pge_data.csv\")                       # save data"
   ]
  },
  {
   "cell_type": "code",
   "execution_count": null,
   "metadata": {},
   "outputs": [],
   "source": []
  },
  {
   "cell_type": "code",
   "execution_count": null,
   "metadata": {},
   "outputs": [],
   "source": []
  },
  {
   "cell_type": "code",
   "execution_count": null,
   "metadata": {},
   "outputs": [],
   "source": []
  }
 ],
 "metadata": {
  "kernelspec": {
   "display_name": "Python 3",
   "language": "python",
   "name": "python3"
  },
  "language_info": {
   "codemirror_mode": {
    "name": "ipython",
    "version": 3
   },
   "file_extension": ".py",
   "mimetype": "text/x-python",
   "name": "python",
   "nbconvert_exporter": "python",
   "pygments_lexer": "ipython3",
   "version": "3.7.7"
  }
 },
 "nbformat": 4,
 "nbformat_minor": 2
}
